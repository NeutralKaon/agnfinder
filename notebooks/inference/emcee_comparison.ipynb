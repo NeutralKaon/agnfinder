{
 "cells": [
  {
   "cell_type": "code",
   "execution_count": 1,
   "metadata": {},
   "outputs": [],
   "source": [
    "%load_ext autoreload\n",
    "%autoreload 2\n",
    "%matplotlib inline"
   ]
  },
  {
   "cell_type": "code",
   "execution_count": 8,
   "metadata": {},
   "outputs": [],
   "source": [
    "import os\n",
    "import json\n",
    "from collections import OrderedDict\n",
    "import tensorflow as tf\n",
    "import numpy as np\n",
    "import pandas as pd\n",
    "from astropy.table import Table\n",
    "import matplotlib.pyplot as plt\n",
    "import seaborn as sns\n",
    "sns.set_context('notebook')\n",
    "import emcee"
   ]
  },
  {
   "cell_type": "code",
   "execution_count": 6,
   "metadata": {},
   "outputs": [
    {
     "name": "stderr",
     "output_type": "stream",
     "text": [
      "Using TensorFlow backend.\n"
     ]
    }
   ],
   "source": [
    "from agnfinder.tf_sampling import deep_emulator, api, run_sampler\n",
    "from agnfinder.tf_sampling.api import SamplingProblem\n",
    "from agnfinder.tf_sampling.hmc import SamplerHMC\n",
    "from agnfinder import simulation_utils, simulation_samples\n",
    "from agnfinder.prospector import visualise, main, cpz_builders"
   ]
  },
  {
   "cell_type": "code",
   "execution_count": 3,
   "metadata": {},
   "outputs": [],
   "source": [
    "os.chdir('/home/mike/repos/agnfinder')"
   ]
  },
  {
   "cell_type": "code",
   "execution_count": 4,
   "metadata": {},
   "outputs": [],
   "source": [
    "catalog_loc = '/media/mike/beta/agnfinder/cpz_paper_sample_week3_maggies.parquet'\n",
    "free_params = OrderedDict({\n",
    "    'log_mass': [8, 12], \n",
    "    'dust2': [0., 2.],  # not age of universe, as mistakenly done before...\n",
    "    'tage': [0.001, 13.8],  # not 0->2, as mistakenly done before...might consider bringing the bounds a bit tighter\n",
    "    'log_tau': [np.log10(.1), np.log10(30)],  # careful, this is log prior! >2, has very little effect\n",
    "    'log_agn_mass': [-7, np.log10(15)],  # i.e. from 10**-7 to 15 (not 10**15!)\n",
    "    'agn_eb_v': [0., 0.5],\n",
    "    'log_agn_torus_mass': [-7, np.log10(15)]\n",
    "})"
   ]
  },
  {
   "cell_type": "code",
   "execution_count": 7,
   "metadata": {},
   "outputs": [
    {
     "name": "stderr",
     "output_type": "stream",
     "text": [
      "WARNING:root:Building custom CSPSpecBasisAGN as agn_mass is True\n",
      "WARNING:root:Using standard FSPS for SSP, no emulation\n"
     ]
    },
    {
     "name": "stdout",
     "output_type": "stream",
     "text": [
      "[<class 'sedpy.observate.Filter'>(u_sloan), <class 'sedpy.observate.Filter'>(g_sloan), <class 'sedpy.observate.Filter'>(r_sloan), <class 'sedpy.observate.Filter'>(i_sloan), <class 'sedpy.observate.Filter'>(z_sloan), <class 'sedpy.observate.Filter'>(VISTA_H), <class 'sedpy.observate.Filter'>(VISTA_J), <class 'sedpy.observate.Filter'>(VISTA_Ks), <class 'sedpy.observate.Filter'>(VISTA_Y), <class 'sedpy.observate.Filter'>(VISTA_Z), <class 'sedpy.observate.Filter'>(wise_w1), <class 'sedpy.observate.Filter'>(wise_w2)]\n"
     ]
    }
   ],
   "source": [
    "forward_model, wavelengths = simulation_samples.get_forward_model(catalog_loc, emulate_ssp=False, noise=False)"
   ]
  },
  {
   "cell_type": "code",
   "execution_count": 11,
   "metadata": {},
   "outputs": [
    {
     "name": "stderr",
     "output_type": "stream",
     "text": [
      "WARNING:root:Using data loc /media/mike/beta/agnfinder/photometry_simulation_1000000.hdf5\n"
     ]
    }
   ],
   "source": [
    "_, _, x_test, y_test = deep_emulator.data()\n",
    "x_test = x_test.astype(np.float32)\n",
    "y_test = y_test.astype(np.float32)"
   ]
  },
  {
   "cell_type": "code",
   "execution_count": 68,
   "metadata": {},
   "outputs": [],
   "source": [
    "galaxy_n = 10\n",
    "true_params = x_test[galaxy_n]\n",
    "true_observation = deep_emulator.denormalise_photometry(y_test[galaxy_n])"
   ]
  },
  {
   "cell_type": "code",
   "execution_count": 99,
   "metadata": {},
   "outputs": [],
   "source": [
    "def get_python_log_prob_fn(fsps_forward_model, true_observation):\n",
    "    def log_prob_fn(x):\n",
    "        if x.max() > 1. or x.min() < 0.:\n",
    "            return -np.inf\n",
    "        denormalised_x = simulation_utils.denormalise_hypercube(x.reshape(1, 7), free_params)\n",
    "        expected_photometry = fsps_forward_model(denormalised_x.squeeze())\n",
    "        deviation = np.abs(expected_photometry - true_observation)\n",
    "        sigma = expected_photometry * 0.05  # i.e. 5% sigma, will read in soon-ish\n",
    "        log_prob = -np.sum(deviation / sigma)\n",
    "        return log_prob\n",
    "    return log_prob_fn\n"
   ]
  },
  {
   "cell_type": "code",
   "execution_count": 107,
   "metadata": {},
   "outputs": [],
   "source": [
    "log_prob_fn = get_python_log_prob_fn(forward_model, true_observation)"
   ]
  },
  {
   "cell_type": "code",
   "execution_count": 108,
   "metadata": {},
   "outputs": [],
   "source": [
    "nwalkers = 50\n",
    "ndim = 7"
   ]
  },
  {
   "cell_type": "code",
   "execution_count": 109,
   "metadata": {},
   "outputs": [],
   "source": [
    "sampler = emcee.EnsembleSampler(nwalkers, ndim, log_prob_fn)"
   ]
  },
  {
   "cell_type": "code",
   "execution_count": 110,
   "metadata": {},
   "outputs": [],
   "source": [
    "p0 = np.random.uniform(low=0, high=1, size=(nwalkers, ndim))\n",
    "# p0 = np.array([true_params for n in range(nwalkers)])"
   ]
  },
  {
   "cell_type": "code",
   "execution_count": 111,
   "metadata": {},
   "outputs": [
    {
     "data": {
      "text/plain": [
       "(50, 7)"
      ]
     },
     "execution_count": 111,
     "metadata": {},
     "output_type": "execute_result"
    }
   ],
   "source": [
    "p0.shape"
   ]
  },
  {
   "cell_type": "code",
   "execution_count": 118,
   "metadata": {},
   "outputs": [],
   "source": [
    "state = sampler.run_mcmc(p0, 100)"
   ]
  },
  {
   "cell_type": "code",
   "execution_count": 119,
   "metadata": {},
   "outputs": [
    {
     "data": {
      "text/plain": [
       "array([0.01818182, 0.12727273, 0.27272727, 0.21818182, 0.29090909,\n",
       "       0.32727273, 0.2       , 0.25454545, 0.29090909, 0.25454545,\n",
       "       0.36363636, 0.36363636, 0.30909091, 0.30909091, 0.25454545,\n",
       "       0.29090909, 0.30909091, 0.05454545, 0.27272727, 0.07272727,\n",
       "       0.29090909, 0.27272727, 0.27272727, 0.27272727, 0.21818182,\n",
       "       0.41818182, 0.32727273, 0.30909091, 0.45454545, 0.36363636,\n",
       "       0.2       , 0.30909091, 0.21818182, 0.32727273, 0.23636364,\n",
       "       0.29090909, 0.2       , 0.34545455, 0.25454545, 0.41818182,\n",
       "       0.30909091, 0.36363636, 0.36363636, 0.34545455, 0.30909091,\n",
       "       0.30909091, 0.23636364, 0.36363636, 0.38181818, 0.30909091])"
      ]
     },
     "execution_count": 119,
     "metadata": {},
     "output_type": "execute_result"
    }
   ],
   "source": [
    "# sampler.acceptance_fraction"
   ]
  },
  {
   "cell_type": "code",
   "execution_count": null,
   "metadata": {},
   "outputs": [],
   "source": [
    "sampler.reset()"
   ]
  },
  {
   "cell_type": "code",
   "execution_count": 120,
   "metadata": {},
   "outputs": [],
   "source": [
    "state = sampler.run_mcmc(state, 1000)"
   ]
  },
  {
   "cell_type": "code",
   "execution_count": 121,
   "metadata": {},
   "outputs": [],
   "source": [
    "samples = sampler.get_chain(flat=True)"
   ]
  },
  {
   "cell_type": "code",
   "execution_count": 122,
   "metadata": {},
   "outputs": [
    {
     "data": {
      "text/plain": [
       "(27750, 7)"
      ]
     },
     "execution_count": 122,
     "metadata": {},
     "output_type": "execute_result"
    }
   ],
   "source": [
    "samples.shape"
   ]
  },
  {
   "cell_type": "code",
   "execution_count": 123,
   "metadata": {},
   "outputs": [
    {
     "data": {
      "image/png": "[encoded data removed]",
      "text/plain": [
       "<Figure size 432x288 with 1 Axes>"
      ]
     },
     "metadata": {
      "needs_background": "light"
     },
     "output_type": "display_data"
    }
   ],
   "source": [
    "_ = plt.hist(samples[:, 0])"
   ]
  },
  {
   "cell_type": "code",
   "execution_count": 126,
   "metadata": {},
   "outputs": [
    {
     "data": {
      "text/plain": [
       "<matplotlib.lines.Line2D at 0x7f79fc4a9990>"
      ]
     },
     "execution_count": 126,
     "metadata": {},
     "output_type": "execute_result"
    },
    {
     "data": {
      "image/png": "[encoded data removed]",
      "text/plain": [
       "<Figure size 432x288 with 1 Axes>"
      ]
     },
     "metadata": {
      "needs_background": "light"
     },
     "output_type": "display_data"
    }
   ],
   "source": [
    "_ = plt.hist(samples[:, 2])\n",
    "plt.axvline(true_params[2], color='g')"
   ]
  },
  {
   "cell_type": "code",
   "execution_count": null,
   "metadata": {},
   "outputs": [],
   "source": []
  }
 ],
 "metadata": {
  "kernelspec": {
   "display_name": "Python 3",
   "language": "python",
   "name": "python3"
  },
  "language_info": {
   "codemirror_mode": {
    "name": "ipython",
    "version": 3
   },
   "file_extension": ".py",
   "mimetype": "text/x-python",
   "name": "python",
   "nbconvert_exporter": "python",
   "pygments_lexer": "ipython3",
   "version": "3.7.6"
  }
 },
 "nbformat": 4,
 "nbformat_minor": 4
}
